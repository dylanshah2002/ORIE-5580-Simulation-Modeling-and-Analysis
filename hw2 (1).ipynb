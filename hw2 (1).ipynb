{
 "cells": [
  {
   "cell_type": "markdown",
   "metadata": {
    "id": "MxoFPTTof33v"
   },
   "source": [
    "# ORIE 4580/5580/5581 Assignment 2\n",
    "\n",
    "#### Students: S. Ulam (su001) and J. von Neuman (jvn001)"
   ]
  },
  {
   "cell_type": "markdown",
   "metadata": {
    "id": "54CO0k9tgKAJ"
   },
   "source": [
    "### Instructions\n",
    "\n",
    "\n",
    "* Due Thursday September 11, at 11.59pm on Gradescope.\n",
    "* Assignment .ipynb files available for download on [Canvas](https://canvas.cornell.edu/courses/80773#:~:text=Assignments-,Assignments,-Assignments%20module%20publish).\n",
    "* Do all your work in provided notebook (text answers typeset in markdown; show all required code and generate plots inline), and then generate and submit a pdf.\n",
    "* Ideally do assignments in groups of 2, and submit a single pdf with both names\n",
    "* Please show your work and clearly mark your answers.\n",
    "* You can use any code fragments given in class, found online (for example, on StackOverflow), or generated via Gemini/Claude/ChatGPT (you are encouraged to use these for first drafts) **with proper referencing**.\n",
    "* You can also discuss with others (again, please reference them if you do so); but you must write your final answers on your own as a team.\n",
    "\n",
    "\n",
    "\n",
    "### Suggested reading\n",
    "\n",
    "Chapters 4 and 6 of [Introduction to Probability](https://chance.dartmouth.edu/teaching_aids/books_articles/probability_book/book.html) by Grinstead and Snell. You can skip things that seem more advanced, like the Beta distribution in $Ch\\, 4$ and the part on queueing in $Ch\\,6$ - the part about paradoxes in probability is also strictly speaking not required$\\ldots$(but I would never recommend *not* reading that!)"
   ]
  },
  {
   "cell_type": "code",
   "execution_count": 1,
   "metadata": {
    "id": "sNVb3XlKf33w"
   },
   "outputs": [],
   "source": [
    "#importing necessary packages\n",
    "import numpy as np\n",
    "import matplotlib.pyplot as plt\n",
    "%matplotlib inline"
   ]
  },
  {
   "cell_type": "markdown",
   "metadata": {
    "id": "cGCcGZKXn7F_"
   },
   "source": [
    "\n",
    "---\n",
    "\n",
    "---\n",
    "\n",
    "## Question 1: Practice with expectation and variance (25 pts)\n",
    "\n",
    "\n",
    "\n",
    "---\n",
    "\n",
    "\n",
    "**(a)** Given a coin which comes up *Heads* with probability $p$, let $N_p$ denote the number of times the coin is tossed until the first *Heads*. Argue that $$N_p = \\begin{cases} 1 & \\text{with probability } p\\\\ 1+\\tilde{N}_p & \\text{with probability } 1-p \\end{cases}$$\n",
    "where $\\tilde{N}_p$ is an independent random variable with the same distribution as $N_p$.\n",
    "Using this, show that $\\mathbb{E}[N_p] = 1/p$. Also use a similar argument to find $Var(N_p)$.\n",
    "\n",
    "*Note: The rv $N_p$ is said to be a Geometric$(p)$ rv; it has pmf $p(k) = (1-p)^{k-1}p$.*\n",
    "\n",
    "\n",
    "\n",
    "---\n",
    "\n"
   ]
  },
  {
   "cell_type": "markdown",
   "metadata": {
    "id": "jtpKXrGeoqTV"
   },
   "source": [
    "### Ans.\n",
    "\n",
    "**(a)** Let $N_p$ be the number of tosses until the first Heads for a $\\text{Geometric}(p)$ rv.\n",
    "\n",
    "With probability $p$, the first toss is Heads and $N_p=1$. With probability $1-p$, the first toss is Tails and the process restarts independently, so $N_p = 1 + \\tilde N_p$ where $\\tilde N_p \\stackrel{d}{=} N_p$ and is independent of the first toss:\n",
    "$$\n",
    "N_p =\n",
    "\\begin{cases}\n",
    "1 & \\text{with probability } p,\\\\\n",
    "1+\\tilde N_p & \\text{with probability } 1-p.\n",
    "\\end{cases}\n",
    "$$\n",
    "\n",
    "Taking expectations and using $\\tilde N_p \\stackrel{d}{=} N_p$,\n",
    "$$\n",
    "E[N_p] = p\\cdot 1 + (1-p)E[1+\\tilde N_p] = p + (1-p)\\big(1+E[N_p]\\big),\n",
    "$$\n",
    "hence\n",
    "$$\n",
    "E[N_p] - (1-p)E[N_p] = 1 \\quad\\Rightarrow\\quad p\\,E[N_p]=1 \\quad\\Rightarrow\\quad E[N_p]=\\frac{1}{p}.\n",
    "$$\n",
    "\n",
    "For $m_2 := E[N_p^2]$,\n",
    "$$\n",
    "E[N_p^2] = p\\cdot 1^2 + (1-p)E[(1+\\tilde N_p)^2]\n",
    "= p + (1-p)\\big(1 + 2E[\\tilde N_p] + E[\\tilde N_p^2]\\big).\n",
    "$$\n",
    "Using $E[\\tilde N_p]=E[N_p]=1/p$ and $E[\\tilde N_p^2]=E[N_p^2]=m_2$,\n",
    "$$\n",
    "m_2 = 1 + 2(1-p)\\frac{1}{p} + (1-p)m_2\n",
    "\\quad\\Rightarrow\\quad p\\,m_2 = 1 + \\frac{2(1-p)}{p}\n",
    "\\quad\\Rightarrow\\quad m_2 = \\frac{2-p}{p^2}.\n",
    "$$\n",
    "Therefore\n",
    "$$\n",
    "\\mathrm{Var}(N_p) = E[N_p^2] - (E[N_p])^2 = \\frac{2-p}{p^2} - \\frac{1}{p^2} = \\frac{1-p}{p^2}.\n",
    "$$\n"
   ]
  },
  {
   "cell_type": "markdown",
   "metadata": {
    "id": "UqZYCOzjMCat"
   },
   "source": [
    "___\n",
    "\n",
    "**(b)** In the previous assignment you estimated $\\pi$ by sampling uniform random points $(X,Y)$ in $[-1,1]\\times[-1,1]$, and checking if they fell within the circle. Suppose instead you sampled $n$ points uniformly in $[0,1]\\times[0,1]$ and checked if $X^2+Y^2\\leq 1$. Let $N_c$ be the number of points satisfying this; what is $\\mathbb{E}[N_c]$ and $\\text{Var}(N_c)$? Can you use this to get a better estimate of $\\pi$ (i.e., with tighter confidence intervals given the same number of samples $n$)?\n",
    "\n",
    "___"
   ]
  },
  {
   "cell_type": "markdown",
   "metadata": {
    "id": "WeZA2DkzNQcE"
   },
   "source": [
    "### Ans.\n",
    "\n",
    "i)\n",
    "\n",
    "Each point $(X,Y)$ is sampled uniformly on $[0,1]\\times[0,1]$.  \n",
    "The event $\\{X^2+Y^2 \\le 1\\}$ has probability equal to the area of a quarter unit circle, i.e. $p=\\pi/4$.  \n",
    "\n",
    "Thus $N_c \\sim \\text{Binomial}(n,p=\\pi/4)$.  \n",
    "\n",
    "$E[N_c] = np = \\tfrac{n\\pi}{4}$  \n",
    "\n",
    "$\\text{Var}(N_c) = np(1-p) = n \\cdot \\tfrac{\\pi}{4}\\left(1-\\tfrac{\\pi}{4}\\right) = \\tfrac{n\\pi(4-\\pi)}{16}$\n",
    "\n",
    "\n",
    "ii)\n",
    "\n",
    "No, you cannot use this to get a better estimate of $\\pi$.  \n",
    "\n",
    "If we consider $(X,Y)$ sampled uniformly on $[-1,1] \\times [-1,1]$, let $N_c'$ denote the number of points such that $X^2 + Y^2 \\leq 1$.  \n",
    "\n",
    "From the previous homework, we found that  $E[N_c'] = \\tfrac{n\\pi}{4}$  and  $\\text{Var}(N_c') = \\tfrac{n\\pi(4-\\pi)}{16}$.  \n",
    "\n",
    "These estimates are the same as those found above, so the variance does not improve.  \n",
    "\n",
    "\n"
   ]
  },
  {
   "cell_type": "markdown",
   "metadata": {
    "id": "U25Qyhy3pL0J"
   },
   "source": [
    "---\n",
    "**(c)** The elevators in Rhodes Hall stop at $6$ floors. Suppose one morning you get in on the ground floor with $3$ other people, and each one of you wants to go to a floor in $\\{2,3,4,5,6\\}$ chosen uniformly at random, and independently of the others' choices. At how many floors will the elevator stop on average?\n",
    "\n",
    "\n",
    "---"
   ]
  },
  {
   "cell_type": "markdown",
   "metadata": {
    "id": "KRd2JKsBpa2W"
   },
   "source": [
    "### Ans.\n",
    "\n",
    "Let $X_i = \\{1 \\text{ if elevator stops on floor } i,\\; 0 \\text{ otherwise}\\}$.  \n",
    "\n",
    "Let $T =$ number of floors the elevator stops at.  \n",
    "\n",
    "$\n",
    "T = X_2 + X_3 + X_4 + X_5 + X_6\n",
    "$\n",
    "\n",
    "By linearity of expectation:\n",
    "\n",
    "$\n",
    "E(T) = E(X_2 + X_3 + X_4 + X_5 + X_6) = \\sum_{i=2}^6 E(X_i)\n",
    "$\n",
    "\n",
    "Now,\n",
    "\n",
    "$\n",
    "E(X_i) = 1 - P(\\text{elevator does not stop on floor } i).\n",
    "$\n",
    "\n",
    "Since each of the 4 people chooses among 5 floors uniformly and independently,\n",
    "\n",
    "$\n",
    "P(\\text{elevator does not stop on floor } i) = \\frac{4^4}{5^4} = \\left(\\frac{4}{5}\\right)^4.\n",
    "$\n",
    "\n",
    "Thus,\n",
    "\n",
    "$\n",
    "E(X_i) = 1 - \\left(\\frac{4}{5}\\right)^4.\n",
    "$\n",
    "\n",
    "Finally,\n",
    "\n",
    "$\n",
    "E(T) = 5 \\cdot \\left(1 - \\left(\\frac{4}{5}\\right)^4\\right) = \\frac{369}{125}.\n",
    "$\n",
    "\n"
   ]
  },
  {
   "cell_type": "markdown",
   "metadata": {
    "id": "vnBeLBSSpmsF"
   },
   "source": [
    "---\n",
    "\n",
    "(d) For your next simulation homework, you pair up with a student you have not met before. At some point, you get bored of the homework, and decide to count how many common friends you have at Cornell. Suppose the total number of students at Cornell is $22,000$, out of which you have $500$ friends, and your homework partner has $440$. Assuming that for both of you, your friends form independent and uniform random samplings of the total student population, what is the expected number of friends you both have in common?\n",
    "\n",
    "---"
   ]
  },
  {
   "cell_type": "markdown",
   "metadata": {
    "id": "spdv-KpipzKE"
   },
   "source": [
    "### Ans.\n",
    "\n",
    "You independently select $500$ out of $22000$ Cornell students to be your friends.  \n",
    "Your partner independently selects $440$ out of $22000$ Cornell students to be their friends.  \n",
    "\n",
    "Let $X_i = 1$ if your $i$th friend is also a friend of your partner, and $0$ otherwise.  \n",
    "Then $T = X_1 + X_2 + \\dots + X_{500}$.  \n",
    "\n",
    "By linearity of expectation,\n",
    "$$\n",
    "E[T] = \\sum_{i=1}^{500} E[X_i].\n",
    "$$\n",
    "\n",
    "For a given $i$,\n",
    "$$\n",
    "E[X_i] = 1 - P(\\text{the $i$th friend is not chosen by your partner}).\n",
    "$$\n",
    "\n",
    "The probability that your partner does not choose this student is\n",
    "$$\n",
    "\\frac{\\binom{21999}{440}}{\\binom{22000}{440}}\n",
    "= \\frac{22000-440}{22000} = \\frac{539}{550}.\n",
    "$$\n",
    "\n",
    "Thus,\n",
    "$$\n",
    "E[X_i] = 1 - \\frac{539}{550} = \\frac{11}{550} = \\frac{1}{50}.\n",
    "$$\n",
    "\n",
    "Therefore,\n",
    "$$\n",
    "E[T] = 500 \\cdot \\frac{1}{50} = 10.\n",
    "$$\n",
    "\n"
   ]
  },
  {
   "cell_type": "markdown",
   "metadata": {
    "id": "qmO0bQhef33x"
   },
   "source": [
    "___\n",
    "___\n",
    "\n",
    "## Question 2: Pooled Testing (30 pts) ##\n",
    "\n",
    "\n",
    "In 2020 Fall, Cornell adopted pooled testing to test a large population with a limited number of Covid tests. In pooled testing a sample is taken from each person and split into two subsamples. The first subsample from each person is pooled with those of $n-1$ other people into a single pooled sample of size $n$ people. (Cornell eventually used $n=5$.) If the pooled test comes back negative, then we declare all $n$ people in the pool to be\n",
    "negative. If the pooled test comes back positive, we then individually test the second subsample from every person in the pool. In this question we'll explore the effects of different pool sizes $n$.\n",
    "\n",
    "---\n",
    "\n",
    "**(a)** The *prevalence* $p$ at the time of testing is defined to be the true fraction of people with Covid in the population. Now let $N$ be the number of (true) Covid-positive people in a pool of size $n$. What would you use as a model for the distribution of $N$, if you knew the $n$ people in the pool $(i)$ had never met each other in the last week, and $(ii)$ all lived in the same house. In each case, what is the mean and variance of $N$?\n",
    "\n",
    "---"
   ]
  },
  {
   "cell_type": "markdown",
   "metadata": {
    "id": "F2kHkbTdrBIT"
   },
   "source": [
    "### Ans.\n",
    "\n",
    "i) $N ~ Binomial(n, p)\n",
    "ii) Use a beta distribution with parameters alpha and beta. It is more likely that majority or all people in a house are in infected or little to none or none are infected.\n"
   ]
  },
  {
   "cell_type": "markdown",
   "metadata": {
    "id": "mIEZB79KrP0I"
   },
   "source": [
    "___\n",
    "\n",
    "**(b)** Suppose that the test has no *false positives* and no *false negatives*; it comes back positive if **anyone** in the pool is positive and comes back negative if all people in the pool are negative. Let $T$ be the number of tests you need to be *sure* of each persons status (i.e., if they are COVID positive or not). What is the distribution of $T$, and what is its mean and variance? Clearly state all assumptions you are making.\n",
    "\n",
    "---"
   ]
  },
  {
   "cell_type": "markdown",
   "metadata": {
    "id": "b5x-E30Ex9xK"
   },
   "source": [
    "### Ans.\n",
    "\n",
    "**Assumptions.**\n",
    "- Each person is independently Covid-positive with probability $p$ (prevalence $p$).\n",
    "- The pooled test is perfect: no false positives/negatives.\n",
    "- Procedure: test the single $n$-person pool; if positive, test all $n$ individuals; if negative, stop.\n",
    "\n",
    "**Distribution of $T$.**\n",
    "Let $q = (1-p)^n$ be the probability the pool is all negative. Then\n",
    "- $T = 1$ with probability $q$,\n",
    "- $T = n+1$ with probability $1-q$.\n",
    "\n",
    "Equivalently, $T = 1 + n \\cdot I$, where $I \\sim \\text{Bernoulli}(1-q)$.\n",
    "\n",
    "**Mean.**\n",
    "$E[T] = 1\\cdot q + (n+1)(1-q) = (n+1) - n(1-p)^n.$\n",
    "\n",
    "**Variance.**\n",
    "Since $T = 1 + nI$ with $I$ Bernoulli$(1-q)$,\n",
    "$\\text{Var}(T) = n^2\\,\\text{Var}(I) = n^2 (1-q)q = n^2 \\big(1-(1-p)^n\\big)(1-p)^n.$\n"
   ]
  },
  {
   "cell_type": "markdown",
   "metadata": {
    "id": "lVudUJOOyV8l"
   },
   "source": [
    "___\n",
    "\n",
    "**(c)** What is the pool size $n$ that minimizes the average number of tests per person when the prevalence is $0.0001$? What about when prevalence is $0.01$? You should do this numerically using plots (i.e., without calculus), as this is helps explain your recommendation to decision-makers (note though that you may want to test different ranges of $n$ for each setting).\n",
    "\n",
    "---"
   ]
  },
  {
   "cell_type": "markdown",
   "metadata": {},
   "source": [
    "#### p = 0.0001"
   ]
  },
  {
   "cell_type": "code",
   "execution_count": 2,
   "metadata": {},
   "outputs": [
    {
     "data": {
      "image/png": "[encoded data removed]",
      "text/plain": [
       "<Figure size 432x288 with 1 Axes>"
      ]
     },
     "metadata": {
      "needs_background": "light"
     },
     "output_type": "display_data"
    }
   ],
   "source": [
    "p = 0.0001\n",
    "x = np.arange(1, 500)\n",
    "y = ((x + 1) - (x * (1 - p)**x)) / x\n",
    "plt.plot(x, y)\n",
    "plt.xlabel('n')\n",
    "plt.ylabel('Average Number of Tests per Person')\n",
    "plt.show()"
   ]
  },
  {
   "cell_type": "code",
   "execution_count": 3,
   "metadata": {},
   "outputs": [
    {
     "data": {
      "image/png": "[encoded data removed]",
      "text/plain": [
       "<Figure size 432x288 with 1 Axes>"
      ]
     },
     "metadata": {
      "needs_background": "light"
     },
     "output_type": "display_data"
    }
   ],
   "source": [
    "p = 0.0001\n",
    "x = np.arange(50, 150)\n",
    "y = ((x + 1) - (x * (1 - p)**x)) / x\n",
    "plt.plot(x, y)\n",
    "plt.xlabel('n')\n",
    "plt.ylabel('Average Number of Tests per Person')\n",
    "plt.show()"
   ]
  },
  {
   "cell_type": "code",
   "execution_count": 4,
   "metadata": {},
   "outputs": [
    {
     "data": {
      "image/png": "[encoded data removed]",
      "text/plain": [
       "<Figure size 432x288 with 1 Axes>"
      ]
     },
     "metadata": {
      "needs_background": "light"
     },
     "output_type": "display_data"
    }
   ],
   "source": [
    "p = 0.0001\n",
    "x = np.arange(99, 104)\n",
    "y = ((x + 1) - (x * (1 - p)**x)) / x\n",
    "plt.plot(x, y)\n",
    "plt.xlabel('n')\n",
    "plt.ylabel('Average Number of Tests per Person')\n",
    "plt.show()"
   ]
  },
  {
   "cell_type": "markdown",
   "metadata": {},
   "source": [
    "#### p = 0.01"
   ]
  },
  {
   "cell_type": "code",
   "execution_count": 5,
   "metadata": {},
   "outputs": [
    {
     "data": {
      "image/png": "[encoded data removed]",
      "text/plain": [
       "<Figure size 432x288 with 1 Axes>"
      ]
     },
     "metadata": {
      "needs_background": "light"
     },
     "output_type": "display_data"
    }
   ],
   "source": [
    "p = 0.01\n",
    "x = np.arange(1, 5000)\n",
    "y = ((x + 1) - (x * (1 - p)**x)) / x\n",
    "plt.plot(x, y)\n",
    "plt.xlabel('n')\n",
    "plt.ylabel('Average Number of Tests per Person')\n",
    "plt.show()"
   ]
  },
  {
   "cell_type": "code",
   "execution_count": 6,
   "metadata": {},
   "outputs": [
    {
     "data": {
      "image/png": "[encoded data removed]",
      "text/plain": [
       "<Figure size 432x288 with 1 Axes>"
      ]
     },
     "metadata": {
      "needs_background": "light"
     },
     "output_type": "display_data"
    }
   ],
   "source": [
    "p = 0.01\n",
    "x = np.arange(1, 500)\n",
    "y = ((x + 1) - (x * (1 - p)**x)) / x\n",
    "plt.plot(x, y)\n",
    "plt.xlabel('n')\n",
    "plt.ylabel('Average Number of Tests per Person')\n",
    "plt.show()"
   ]
  },
  {
   "cell_type": "code",
   "execution_count": 7,
   "metadata": {},
   "outputs": [
    {
     "data": {
      "image/png": "[encoded data removed]",
      "text/plain": [
       "<Figure size 432x288 with 1 Axes>"
      ]
     },
     "metadata": {
      "needs_background": "light"
     },
     "output_type": "display_data"
    }
   ],
   "source": [
    "p = 0.01\n",
    "x = np.arange(1, 100)\n",
    "y = ((x + 1) - (x * (1 - p)**x)) / x\n",
    "plt.plot(x, y)\n",
    "plt.xlabel('n')\n",
    "plt.ylabel('Average Number of Tests per Person')\n",
    "plt.show()"
   ]
  },
  {
   "cell_type": "code",
   "execution_count": 8,
   "metadata": {},
   "outputs": [
    {
     "data": {
      "image/png": "[encoded data removed]",
      "text/plain": [
       "<Figure size 432x288 with 1 Axes>"
      ]
     },
     "metadata": {
      "needs_background": "light"
     },
     "output_type": "display_data"
    }
   ],
   "source": [
    "p = 0.01\n",
    "x = np.arange(1, 20)\n",
    "y = ((x + 1) - (x * (1 - p)**x)) / x\n",
    "plt.plot(x, y)\n",
    "plt.xlabel('n')\n",
    "plt.ylabel('Average Number of Tests per Person')\n",
    "plt.show()"
   ]
  },
  {
   "cell_type": "code",
   "execution_count": 9,
   "metadata": {},
   "outputs": [
    {
     "data": {
      "image/png": "[encoded data removed]",
      "text/plain": [
       "<Figure size 432x288 with 1 Axes>"
      ]
     },
     "metadata": {
      "needs_background": "light"
     },
     "output_type": "display_data"
    }
   ],
   "source": [
    "p = 0.01\n",
    "x = np.arange(8, 13)\n",
    "y = ((x + 1) - (x * (1 - p)**x)) / x\n",
    "plt.plot(x, y)\n",
    "plt.xlabel('n')\n",
    "plt.ylabel('Average Number of Tests per Person')\n",
    "plt.show()"
   ]
  },
  {
   "cell_type": "markdown",
   "metadata": {
    "id": "FlZqL3MPzO6a"
   },
   "source": [
    "### Ans.\n",
    "\n",
    "When the prevalence is $0.0001, n = 100$ minimizes the average number of tests per person. \n",
    "\n",
    "When the prevalence is $0.01$, $n = 10$ minimizes the average number of tests per person. \n"
   ]
  },
  {
   "cell_type": "markdown",
   "metadata": {
    "id": "P_G3haZcpAfc"
   },
   "source": [
    "\n",
    "\n",
    "---\n",
    "\n",
    "*(d)* A more critical characteristic of pooled tests is the false negative rate, which is the probability that a test comes back negative when at least one person in the pool is Covid positive. False negatives are dangerous, because the person (or people) with Covid in the pool can infect others until Covid is otherwise detected or they become no longer infectious.\n",
    "\n",
    "You know that false negatives must be more likely when there is a low viral load in a sample. To understand how to model false negatives in PCR tests, you consult with your friend who is a biologist, who tells you that the viral load $V$ in a PCR sample is measured using something called the cycle threshold (CT) score of a PCR test, which is equivalent to $C = -\\log_2 V$. The viral load for a Covid-negative person is $V=0$. In a pooled sample of size $n$, each person contributes a fraction $1/n$ of the sample, and the resulting viral load has a total CT score of:\n",
    "$$-\\log_2 \\left(\\frac 1 n \\sum_{i=1}^n 2^{-C_i}\\right),$$\n",
    "where $C_1, C_2, \\ldots, C_n$ are the CT scores of each person in the pool. Finally, your friend recalls that probability $\\mathbb{P}[\\text{false positive test}|C]$ of a false negative in a single PCR test is well modeled either as\n",
    "$\\frac{1}{1 + \\exp(-10(C - 35))}$ or $\\frac{1}{1 + \\exp(10(C - 35))}$ (but he can not remember which one 🙁).\n",
    "\n",
    "Can you figure out what the correct model is?\n",
    "\n",
    "---\n",
    "\n"
   ]
  },
  {
   "cell_type": "markdown",
   "metadata": {
    "id": "b5GdqFCzsiTA"
   },
   "source": [
    "### Ans.\n",
    "\n",
    "We model the false negative probability as a function of the CT score $C$. Since $C=-\\log_2 V$, a lower viral load $V$ means a larger $C$. In a pooled sample of size $n$, the pooled CT is $C_{\\text{pool}}=-\\log_2\\left(\\tfrac{1}{n}\\sum_{i=1}^n 2^{-C_i}\\right)= -\\log_2\\left(\\tfrac{1}{n}\\sum_{i=1}^n V_i\\right)$.\n",
    "\n",
    "Two candidates for the false negative rate are $f_1(C)=\\tfrac{1}{1+\\exp(-10(C-35))}$ and $f_2(C)=\\tfrac{1}{1+\\exp(10(C-35))}$. Because false negatives should be more likely at low viral load (i.e., larger $C$), the correct model must be increasing in $C$. Indeed, $f_1'(C)=\\tfrac{10,e^{-10(C-35)}}{(1+e^{-10(C-35)})^2}>0$ while $f_2'(C)=-\\tfrac{10,e^{10(C-35)}}{(1+e^{10(C-35)})^2}<0$. The limits also match biology: as $C\\to -\\infty$ (high $V$), $f_1(C)\\to 0$; as $C\\to +\\infty$ (low $V$), $f_1(C)\\to 1$.\n",
    "\n",
    "Therefore the correct model is $\\mathbb{P}(\\text{false negative}\\mid C)=\\tfrac{1}{1+\\exp(-10(C-35))}$.\n",
    "\n",
    "Pooling implication. If exactly one person is positive with CT $C_+$ and the rest are negative, then $C_{\\text{pool}}=C_+ + \\log_2 n$, so larger $n$ raises $C$ and increases the false negative probability under the model above.\n",
    "\n"
   ]
  },
  {
   "cell_type": "markdown",
   "metadata": {
    "id": "-gl2YJrorGkf"
   },
   "source": [
    "\n",
    "\n",
    "---\n",
    "\n",
    "\n",
    "*(e)* You consult the epidemiology literature and find that the viral load for a Covid-positive person has been found from data to have a CT score $C$ that is well modeled via a *mixture of Gaussian* distribution as follows: with probability $0.40$, $C$ is $\\mathcal{N}(20, 3.5^2)$ (i.e., normally distributed with mean 20 and variance $3.5^2$); with probability $0.5$, $C$ is $\\mathcal{N}(30, 3^2)$, and otherwise,  $C$ is $\\mathcal{N}(34.78, 1.32^2)$.\n",
    "\n",
    "Use this data with the above model to estimate the probability of a false negative in a pooled test of size $n$ containing a single Covid-positive person as a function of $n$. You'll need to generate, say, $m$ replications of the pooled test at each value of $n$, where you should choose $m$ to ensure that your results are meaningful. Report your results as a graph with the false negative rate on the $y$-axis and the pool size $n$ ranging from 1 to 50 on the $x$-axis. Select your simulation runlength so that your estimates would be useful in practice (for example, estimates that are $\\pm$ 0.02 or so are sufficiently accurate).\n",
    "\n",
    "\n",
    "---\n"
   ]
  },
  {
   "cell_type": "markdown",
   "metadata": {
    "id": "7TgVoe_dseOb"
   },
   "source": [
    "### Ans.\n",
    "\n"
   ]
  },
  {
   "cell_type": "code",
   "execution_count": null,
   "metadata": {
    "id": "zQu1pSVIrFmk"
   },
   "outputs": [],
   "source": []
  },
  {
   "cell_type": "markdown",
   "metadata": {
    "id": "l_IOsfDhf33y"
   },
   "source": [
    "## Question 3: Buffon and his magic needle (20 points)"
   ]
  },
  {
   "cell_type": "markdown",
   "metadata": {
    "id": "wyQBQHsERhuf"
   },
   "source": [
    "In the first class we saw Buffon's needle experiment in which we drop needles of length 1 on a floor of parallel lines that are equally spaced 1 unit apart. If we drop $n$ needles and $N_{cross}$ of them cross a line, then an estimate of $\\pi$ is $\\hat{\\pi}_n = 2n/N_{cross}$. We will now study how this works in practice (feel free to use the code provided in class)."
   ]
  },
  {
   "cell_type": "markdown",
   "metadata": {
    "id": "o5-ARlaCSEPy"
   },
   "source": [
    "\n",
    "---\n",
    "\n",
    "**(a)** For a range of values of $n$ between $10$ and $10,000$, perform $30$ replications of the Buffon needle experiment. For each value of $n$ you test, plot the average of the $30$ estimates $\\hat{\\pi}_n = 2n/N_{cross}$ and a 95\\% confidence interval for the expected value of $\\hat{\\pi}_n$. You should only be making one plot, with $n$ on the $x$-axis, and estimates and CIs on the $y$-axis.\n",
    "\n",
    "\n",
    "\n",
    "---\n",
    "\n"
   ]
  },
  {
   "cell_type": "markdown",
   "metadata": {
    "id": "JfPEcCaITWDS"
   },
   "source": [
    "### Ans."
   ]
  },
  {
   "cell_type": "code",
   "execution_count": 10,
   "metadata": {
    "id": "5bKOtz2CSDjB"
   },
   "outputs": [],
   "source": [
    "# Make sure we have the packages we need\n",
    "\n",
    "import numpy as np\n",
    "import scipy as sc\n",
    "import math\n",
    "\n",
    "import matplotlib.pyplot as plt"
   ]
  },
  {
   "cell_type": "code",
   "execution_count": 11,
   "metadata": {},
   "outputs": [],
   "source": [
    "def buffon(N,length,dist,num_lines = 2,seed=-1):\n",
    "    \"\"\"\n",
    "    Generates a design matrix with Gaussian basis functions\n",
    "\n",
    "    Parameters\n",
    "    ----------\n",
    "    N: number of throws\n",
    "    length: length of toothpick\n",
    "    dist: distance between lines\n",
    "    num_lines: number of lines (should be >=2)\n",
    "    seed: seed for random number generator; -1 for no seed\n",
    "\n",
    "    Returns\n",
    "    ----------\n",
    "    sim_data: list of length N with outputs of sims\n",
    "              each simulation output comprises:\n",
    "              (tuples) (x_1,y_1), (x_2,y_2) of toothpick endpoints\n",
    "              (int) number of line crossings\n",
    "\n",
    "    \"\"\"\n",
    "\n",
    "    # Setting seed for PRNG (using -1 for no seed)\n",
    "    if seed!=-1:\n",
    "      np.random.seed(seed)\n",
    "\n",
    "    # Generate random centers and angles of toothpicks\n",
    "    # np.random.rand() generates a U[0,1] random variable\n",
    "    xcent = 1+(num_lines-1)*np.random.rand(N)\n",
    "    ycent = 1+(num_lines-1)*np.random.rand(N)\n",
    "    theta = (np.pi/2.0)*np.random.rand(N)\n",
    "\n",
    "    # Count number of times each toothpick touches a line\n",
    "    crossed = (ycent - np.floor(ycent) - (length/2.0)*np.sin(theta) < 0).astype(int) + (ycent - np.floor(ycent) + (length/2.0)*np.sin(theta) > dist).astype(int)\n",
    "\n",
    "    # Return toothpick endpoints, number of times each toothpick crosses\n",
    "    sim_data  = list(zip(list(zip(xcent - (length/2.0)*np.cos(theta),ycent - (length/2.0)*np.sin(theta))),\n",
    "                     list(zip(xcent + (length/2.0)*np.cos(theta),ycent + (length/2.0)*np.sin(theta))),\n",
    "                     crossed))\n",
    "\n",
    "    return sim_data"
   ]
  },
  {
   "cell_type": "code",
   "execution_count": 22,
   "metadata": {},
   "outputs": [],
   "source": [
    "num_sims = 30\n",
    "length = 1\n",
    "dist   = 1\n",
    "\n",
    "n_grid = np.unique(np.logspace(1, 4, 60, dtype=int))\n",
    "\n",
    "pi_hat = np.zeros(len(n_grid), dtype=float)\n",
    "ci_low = np.zeros(len(n_grid), dtype=float)\n",
    "ci_high = np.zeros(len(n_grid), dtype=float)\n",
    "\n",
    "for i, n in enumerate(n_grid):\n",
    "    trial_estimates = np.empty(num_sims, dtype=float)\n",
    "    for j in range(num_sims):\n",
    "        data = buffon(n, length, dist, seed=-1)\n",
    "        num_crossed = sum(drop[2] for drop in data)\n",
    "        trial_estimates[j] = (2.0 * n / num_crossed) if num_crossed > 0 else np.nan\n",
    "\n",
    "    trial_estimates = trial_estimates[~np.isnan(trial_estimates)]\n",
    "    if trial_estimates.size == 0:\n",
    "        pi_hat[i] = np.nan\n",
    "        ci_low[i] = np.nan\n",
    "        ci_high[i] = np.nan\n",
    "        continue\n",
    "\n",
    "    m  = np.mean(trial_estimates)\n",
    "    s  = np.std(trial_estimates, ddof=1) if trial_estimates.size > 1 else 0.0\n",
    "    SE = s / np.sqrt(trial_estimates.size)\n",
    "\n",
    "    pi_hat[i] = m\n",
    "    ci_low[i] = m - 1.96 * SE\n",
    "    ci_high[i] = m + 1.96 * SE\n"
   ]
  },
  {
   "cell_type": "code",
   "execution_count": 23,
   "metadata": {},
   "outputs": [
    {
     "data": {
      "image/png": "[encoded data removed]",
      "text/plain": [
       "<Figure size 720x432 with 1 Axes>"
      ]
     },
     "metadata": {
      "needs_background": "light"
     },
     "output_type": "display_data"
    }
   ],
   "source": [
    "mask = np.isfinite(n_grid) & np.isfinite(pi_hat) & np.isfinite(ci_low) & np.isfinite(ci_high)\n",
    "\n",
    "plt.figure(figsize=(10,6))\n",
    "\n",
    "\n",
    "plt.plot(n_grid[mask], pi_hat[mask], \"-o\", label=\"Mean $\\hat{\\pi}_n$\", color=\"C0\")\n",
    "\n",
    "\n",
    "plt.fill_between(n_grid[mask], ci_low[mask], ci_high[mask],\n",
    "                 where=np.ones_like(n_grid[mask], dtype=bool),\n",
    "                 color=\"C0\", alpha=0.2, label=\"95% CI\")\n",
    "\n",
    "\n",
    "plt.axhline(np.pi, color=\"red\", linestyle=\"--\", label=\"True $\\pi$\")\n",
    "\n",
    "plt.xscale(\"log\")\n",
    "plt.xlabel(\"n (number of throws)\")\n",
    "plt.ylabel(\"Estimate of $\\pi$\")\n",
    "plt.title(\"Buffon's Needle: Convergence of $\\hat{\\pi}_n$\")\n",
    "plt.legend()\n",
    "plt.grid(True, which=\"both\", linestyle=\"--\", alpha=0.5)\n",
    "plt.show()"
   ]
  },
  {
   "cell_type": "markdown",
   "metadata": {},
   "source": [
    "I used ChatGPT to generate the plots of my estimates."
   ]
  },
  {
   "cell_type": "markdown",
   "metadata": {
    "id": "CxV2yEmlSbkC"
   },
   "source": [
    "\n",
    "---\n",
    "\n",
    "**(b)** You may notice from your plot in part (a) that the estimator $\\hat{\\pi}_n$ has some *bias*, i.e., $\\mathbb{E}[\\hat{\\pi}_n] \\neq \\pi$ (this may be more apparent for small values of $n$). Pick a small value (say, $n=100$), and do more replications (i.e., do multiple experiments, where in each experiment you throw $100$ needles), and determine if $\\hat{\\pi}_n$ is an overestimate or underestimate for $\\pi$.\n",
    "\n",
    "\n",
    "---\n"
   ]
  },
  {
   "cell_type": "markdown",
   "metadata": {
    "id": "uFSg1RRwTUfb"
   },
   "source": [
    "### Ans."
   ]
  },
  {
   "cell_type": "code",
   "execution_count": 35,
   "metadata": {},
   "outputs": [
    {
     "name": "stdout",
     "output_type": "stream",
     "text": [
      "Mean: 3.164342383170296\n",
      "CI Low: 3.148751048709209\n",
      "CI High: 3.179933717631383\n",
      "Bias: 0.02274972958050281\n"
     ]
    }
   ],
   "source": [
    "n = 100\n",
    "num_sims = 1000          \n",
    "length = 1\n",
    "dist = 1\n",
    "\n",
    "pi_hat = np.zeros(num_sims)\n",
    "\n",
    "for i in range(num_sims):\n",
    "    data = buffon(n, length, dist, seed=-1)      # one experiment of n throws\n",
    "    num_crosses = sum(drop[2] for drop in data)           # number of crosses\n",
    "    pi_hat[i] = (2.0 * n / num_crosses) if num_crosses > 0 else np.nan\n",
    "\n",
    "pi_hat = pi_hat[~np.isnan(pi_hat)]\n",
    "\n",
    "mean_hat = np.mean(pi_hat)\n",
    "s = np.std(pi_hat, ddof=1) if pi_hat.size > 1 else np.nan\n",
    "SE = s / np.sqrt(pi_hat.size) if pi_hat.size > 0 else np.nan\n",
    "ci_low = mean_hat - 1.96 * SE\n",
    "ci_high = mean_hat + 1.96 * SE\n",
    "bias = mean_hat - np.pi\n",
    "\n",
    "print(\"Mean:\", mean_hat)\n",
    "print(\"CI Low:\", ci_low)\n",
    "print(\"CI High:\", ci_high)\n",
    "print(\"Bias:\", bias)"
   ]
  },
  {
   "cell_type": "markdown",
   "metadata": {},
   "source": [
    "$\\hat{\\pi}_n$ is an overestimate for $\\pi$."
   ]
  },
  {
   "cell_type": "markdown",
   "metadata": {
    "id": "HU-lR4mMTe7Z"
   },
   "source": [
    "**(c)** Can you mathematically justify your observation from part (b)?"
   ]
  },
  {
   "cell_type": "markdown",
   "metadata": {
    "id": "YgNPNKKkTl8p"
   },
   "source": [
    "### Ans.\n",
    "\n",
    "Let $N_{\\text{cross}} \\sim \\text{Binomial}(n, p = 2/\\pi)$.  \n",
    "Define $g$ on $(0,\\infty)$ by $g(x) = \\tfrac{2n}{x}$.  \n",
    "Then\n",
    "$\n",
    "\\mathbb{E}[g(N_{\\text{cross}})] \n",
    "= \\mathbb{E}\\!\\left[\\tfrac{2n}{N_{\\text{cross}}}\\right].\n",
    "$\n",
    "\n",
    "By Jensen's inequality, since $g$ is convex,\n",
    "$\n",
    "\\mathbb{E}\\!\\left[\\tfrac{2n}{N_{\\text{cross}}}\\right] \n",
    "\\;\\ge\\; \\tfrac{2n}{\\mathbb{E}[N_{\\text{cross}}]}.\n",
    "$\n",
    "\n",
    "But $\\mathbb{E}[N_{\\text{cross}}] = np$, so\n",
    "$\n",
    "\\tfrac{2n}{\\mathbb{E}[N_{\\text{cross}}]} \n",
    "= \\tfrac{2n}{np} \n",
    "= \\tfrac{2}{p} \n",
    "= \\pi.\n",
    "$\n",
    "\n",
    "Thus,\n",
    "$\n",
    "\\mathbb{E}\\!\\left[\\tfrac{2n}{N_{\\text{cross}}}\\right] > \\pi.\n",
    "$\n",
    "\n",
    "Therefore, on average, $\\hat\\pi_n = 2n/N_{\\text{cross}}$ will be an overestimate of $\\pi$.\n"
   ]
  },
  {
   "cell_type": "markdown",
   "metadata": {
    "id": "RIFfuf3eTn1j"
   },
   "source": [
    "**(d)** Note however that you can still use Buffon's experiment to get an estimate with $95$\\% confidence intervals for $\\mathbb{E}[\\frac{N_{\\text{cross}}}{n}]$. Using this, can you get a $95$\\% confidence interval for $\\pi$? (Note: this need not be symmetric about $\\pi$)."
   ]
  },
  {
   "cell_type": "markdown",
   "metadata": {
    "id": "nvNTxd05UY-T"
   },
   "source": [
    "### Ans.\n",
    "\n",
    "Yes, we can obtain a 95\\% confidence interval for $\\pi$. Since \n",
    "$\n",
    "\\mathbb{E}\\!\\left(\\frac{N_{\\text{cross}}}{n}\\right) = p = \\frac{2}{\\pi},\n",
    "$\n",
    "the sample average of $N_{\\text{cross}}/n$ over repeated experiments is an unbiased \n",
    "estimator of $p$. \n",
    "\n",
    "We run Buffon's experiment $\\text{num\\_sim}$ times with fixed $n$, compute \n",
    "$p_j = N_{\\text{cross},j}/n$ for each replication, and then take the sample mean \n",
    "$\\bar p$ together with its standard deviation to form a 95\\% confidence interval \n",
    "for $p$, say\n",
    "$\n",
    "[A,\\, B].\n",
    "$\n",
    "\n",
    "Since $\\pi = 2/p$ and the transformation $f(p) = 2/p$ is strictly decreasing, \n",
    "the confidence interval for $\\pi$ is obtained by flipping the endpoints:\n",
    "$\n",
    "\\left[\\frac{2}{B}, \\;\\frac{2}{A}\\right].\n",
    "$\n",
    "\n",
    "Thus the resulting 95\\% confidence interval for $\\pi$ is generally asymmetric, \n",
    "but it preserves the correct coverage probability.\n"
   ]
  },
  {
   "cell_type": "markdown",
   "metadata": {
    "id": "1YzsdFSPUatj"
   },
   "source": [
    "**(e) (Optional for everyone!)** Try to convince yourself (by linearity of expectation), that\n",
    "\n",
    "(i) If you randomly throw $n$ matches of length $\\ell$ and let $N^{\\ell}_{\\text{cross}}$ be a count of how many times these cross the lines, then $\\frac{\\mathbb{E}[N^{\\ell}_{\\text{cross}}]}{\\ell} = $ constant (in other words, the expected number of crossings is proportional to $\\ell$). Note: if $\\ell>1$, each match may cross multiple lines.\n",
    "\n",
    "(ii) The above result remains true if you throw *any* line segment (with any shape) of length $\\ell$. Using this, can you see an easy way to compute $\\mathbb{E}[N^{1}_{\\text{cross}}]$ (i.e., the probability of a match crossing a line in the original experiment)?"
   ]
  },
  {
   "cell_type": "markdown",
   "metadata": {
    "id": "4McZkHwYf33z"
   },
   "source": [
    "## Question 4: Overbooking (25 points)\n",
    "\n",
    "A website called Tixmaster is in charge of selling tickets for an upcoming Taylor Swift concert in Ithaca. The concert will take place in the State Theater, which has an official capacity of $1500$ seats. You believe however that Tixmaster has sold $1600$ tickets (representatives of the company, when contacted, denied this$\\ldots$).\n",
    "\n",
    "The show starts at 7pm, and if a ticket holder hasn't shown up by that time, then they are not allowed to enter anymore so as to not disturb the other attendees. From experience, you believe that there is a 95\\% chance that someone who has bought a ticket actually shows up by 7pm. and that people show up (or not) independently from one another."
   ]
  },
  {
   "cell_type": "markdown",
   "metadata": {
    "id": "Z3BowWcMz8Iw"
   },
   "source": [
    "\n",
    "\n",
    "---\n",
    "\n",
    "**(a)** You wait inside the State Theater and count the number of people entering. What is the probability that you will be able to prove that Tixmaster is overbooking? (You can do this with or without simulation)\n",
    "\n",
    "\n",
    "---"
   ]
  },
  {
   "cell_type": "markdown",
   "metadata": {
    "id": "DmaSH5iZ0zH-"
   },
   "source": [
    "### Ans.\n"
   ]
  },
  {
   "cell_type": "code",
   "execution_count": 14,
   "metadata": {},
   "outputs": [
    {
     "name": "stdout",
     "output_type": "stream",
     "text": [
      "0.9833\n"
     ]
    }
   ],
   "source": [
    "np.random.seed(123)\n",
    "tickets_sold = 1600\n",
    "capacity = 1500\n",
    "num_sims = 10000\n",
    "attendees = np.random.binomial(n=tickets_sold, p=0.95, size=num_sims)\n",
    "prob = np.mean(attendees > capacity)\n",
    "print(prob)"
   ]
  },
  {
   "cell_type": "markdown",
   "metadata": {
    "id": "BS10dJ10f33z"
   },
   "source": [
    "**(b)** You manage to catch Tixmaster overbooking this time, and to prevent it in future, you decide to impose a fine to try and disincentivize overbooking. You know Tixmaster earns 100 in profit for every ticket sold (whether the holder shows up or not). You again have an agent counting how many people show up to the concert by $7$pm (you can not see how many are late or no-shows), and can charge Tixmaster a fine of 500 for each person exceeding the capacity.\n",
    "\n",
    "Use a simulation to estimate how many extra tickets (over 1600) Tixmaster will sell, if they are trying to maximize their expected profit (after paying any fines)."
   ]
  },
  {
   "cell_type": "markdown",
   "metadata": {
    "id": "mNoymDoVOMiB"
   },
   "source": [
    "### Ans."
   ]
  },
  {
   "cell_type": "code",
   "execution_count": 38,
   "metadata": {},
   "outputs": [
    {
     "data": {
      "text/plain": [
       "1601"
      ]
     },
     "execution_count": 38,
     "metadata": {},
     "output_type": "execute_result"
    }
   ],
   "source": [
    "np.random.seed(123)\n",
    "capacity = 1500\n",
    "num_sims = 1000\n",
    "p = 0.95\n",
    "ticket_range = np.arange(1601, 5000)\n",
    "attendees = np.random.binomial(n=ticket_range[:, None], p=p, size=(len(ticket_range), num_sims))\n",
    "profit = (100 * ticket_range[:, None]) - (500 * np.maximum(attendees - capacity, 0))\n",
    "avg_profit = np.mean(profit, axis = 1)\n",
    "best_idx = avg_profit.argmax()         \n",
    "best_tickets = ticket_range[best_idx]  \n",
    "best_profit = avg_profit[best_idx] \n",
    "best_tickets"
   ]
  },
  {
   "cell_type": "markdown",
   "metadata": {
    "id": "8c1LKlyBf33z"
   },
   "source": [
    "\n",
    "\n",
    "---\n",
    "\n",
    "\n",
    "\n",
    "**(c) (For 5580/5581 students; optional for 4580)** Finally, you decide to stamp down on any overbooking by setting a large enough penalty so that Tixmaster does not find it profitable to sell even one extra ticket. Use simulation to find a fee $F$ charged per person over $1600$ admitted to the theater, such that it stops overbooking for each person who book after the number tickets sold exceed the capacity. (Ideally, try to propose as small an $F$ as possible, so that the city government feels it is practical to implement).\n",
    "\n",
    "*(Note: This sort of a problem where you want to optimize a parameter via simulation is difficult. We will see some ways to do this more efficiently later in class; however, for this problem, it is easy to do a search over potential values of $F$ to find the first time that overbooking by even $1$ ticket becomes unprofitable.)*\n",
    "\n",
    "\n",
    "---\n",
    "\n"
   ]
  },
  {
   "cell_type": "markdown",
   "metadata": {
    "id": "rN21bzkORLVg"
   },
   "source": [
    "### Ans."
   ]
  },
  {
   "cell_type": "code",
   "execution_count": 39,
   "metadata": {
    "id": "2M5NJnUCf33z"
   },
   "outputs": [
    {
     "name": "stdout",
     "output_type": "stream",
     "text": [
      "None\n"
     ]
    }
   ],
   "source": [
    "np.random.seed(123)\n",
    "capacity = 1600\n",
    "baseline_profit = capacity * 100\n",
    "fees = np.arange(500, 10000)\n",
    "num_sims = 10000\n",
    "attendees = np.random.binomial(1601, p=0.95, size = num_sims)\n",
    "profit = (baseline_profit + 100) - (fees[:,None] * np.maximum(attendees - capacity, 0))\n",
    "avg_profit = np.mean(profit, axis = 1)\n",
    "indices = np.where(avg_profit <= baseline_profit)[0]\n",
    "min_fee = fees[indices[0]] if len(indices) else print(\"None\")\n",
    "min_fee"
   ]
  },
  {
   "cell_type": "markdown",
   "metadata": {},
   "source": [
    "There is no fee that is practical to implement such that overbooking by even 1 ticket becomes unprofitable. "
   ]
  }
 ],
 "metadata": {
  "colab": {
   "provenance": []
  },
  "kernelspec": {
   "display_name": "Python 3 (ipykernel)",
   "language": "python",
   "name": "python3"
  },
  "language_info": {
   "codemirror_mode": {
    "name": "ipython",
    "version": 3
   },
   "file_extension": ".py",
   "mimetype": "text/x-python",
   "name": "python",
   "nbconvert_exporter": "python",
   "pygments_lexer": "ipython3",
   "version": "3.9.12"
  }
 },
 "nbformat": 4,
 "nbformat_minor": 1
}
